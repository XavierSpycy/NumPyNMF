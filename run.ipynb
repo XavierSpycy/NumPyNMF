{
 "cells": [
  {
   "cell_type": "markdown",
   "metadata": {},
   "source": [
    "# NumPyNMF Repository Quick Start"
   ]
  },
  {
   "cell_type": "markdown",
   "metadata": {},
   "source": [
    "## Setup"
   ]
  },
  {
   "cell_type": "code",
   "execution_count": null,
   "metadata": {},
   "outputs": [],
   "source": [
    "# Clone the repository\n",
    "!git clone https://github.com/XavierSpycy/NumPyNMF.git\n",
    "# Switch to the NumPyNMF directory\n",
    "%cd NumPyNMF"
   ]
  },
  {
   "cell_type": "markdown",
   "metadata": {},
   "source": [
    "## Play with Our Existing Methods"
   ]
  },
  {
   "cell_type": "markdown",
   "metadata": {},
   "source": [
    "### Run the Script in the Terminal"
   ]
  },
  {
   "cell_type": "code",
   "execution_count": null,
   "metadata": {},
   "outputs": [],
   "source": [
    "!python run.py --dataset 'ORL' --reduce 1 --max_iter 500"
   ]
  },
  {
   "cell_type": "markdown",
   "metadata": {},
   "source": [
    "### Run the Script in the Notebook"
   ]
  },
  {
   "cell_type": "code",
   "execution_count": null,
   "metadata": {},
   "outputs": [],
   "source": [
    "from algorithm.pipeline import Pipeline\n",
    "\n",
    "pipeline = Pipeline(nmf='L1NormRegularizedNMF', # Options: 'L2NormNMF', 'KLDivergenceNMF', 'ISDivergenceNMF', 'L21NormNMF', 'HSCostNMF', 'L1NormRegularizedNMF', 'CappedNormNMF', 'CauchyNMF'\n",
    "                    dataset='YaleB', # Options: 'ORL', 'YaleB'\n",
    "                    reduce=3, # ORL: 1, YaleB: 3\n",
    "                    noise_type='salt_and_pepper', # Options: 'uniform', 'gaussian', 'laplacian', 'salt_and_pepper', 'block'\n",
    "                    noise_level=0.08, # Uniform, Gassian, Laplacian: [.1, .3], Salt and Pepper: [.02, .10], Block: [10, 20]\n",
    "                    random_state=99, # 0, 42, 99, 512, 3407 in our experiments\n",
    "                    scaler='MinMax') # Options: 'MinMax', 'Standard'\n",
    "\n",
    "# Run the pipeline\n",
    "pipeline.execute(max_iter=500, verbose=True) # Parameters: max_iter: int, convergence_trend: bool, matrix_size: bool, verbose: bool\n",
    "pipeline.evaluate(idx=9, imshow=True) # Parameters: idx: int, imshow: bool"
   ]
  },
  {
   "cell_type": "markdown",
   "metadata": {},
   "source": [
    "## Develop Your Customized NMF"
   ]
  },
  {
   "cell_type": "code",
   "execution_count": null,
   "metadata": {},
   "outputs": [],
   "source": [
    "import numpy as np\n",
    "from algorithm.nmf import BasicNMF\n",
    "from algorithm.pipeline import Pipeline\n",
    "\n",
    "class ExampleNMF(BasicNMF):\n",
    "    name = 'Example'\n",
    "    # If you would like to design your customized NMF algorithm, you can inherit the BasicNMF class\n",
    "    # and override the matrix_init and update methods\n",
    "    def matrix_init(self, X, n_components, random_state=None):\n",
    "        # How to employ the random_state depends on the algorithm\n",
    "        # For example, you can use np.random.seed(random_state)\n",
    "        n_features = X.shape[0]\n",
    "        n_samples = X.shape[1]\n",
    "        D = np.random.normal(loc=0, scale=1, size=(n_features, n_components))\n",
    "        R = np.random.uniform(low=0, high=1, size=(n_components, n_samples))\n",
    "        return D, R # Make sure to return D, R\n",
    "\n",
    "    def update(self, X, **kwargs):\n",
    "        # Take L2-norm based NMF as an example\n",
    "        # Get the parameters from kwargs as you need\n",
    "        threshold = kwargs.get('threshold', 1e-6)\n",
    "        epsilon = kwargs.get('epsilon', 1e-7)\n",
    "        # Multiplicative update rule for D and R matrices\n",
    "        self.D *= np.dot(X, self.R.T) / (np.dot(np.dot(self.D, self.R), self.R.T) + epsilon)\n",
    "        self.R *= np.dot(self.D.T, X) / (np.dot(np.dot(self.D.T, self.D), self.R) + epsilon)\n",
    "        # Calculate the loss function\n",
    "        loss = np.linalg.norm(X - np.dot(self.D, self.R), 'fro') ** 2\n",
    "        self.loss_list.append(loss)\n",
    "        # Calculate L2-norm based errors for convergence\n",
    "        e_D = np.sqrt(np.sum((self.D - self.D_prev) ** 2, axis=(0, 1))) / self.D.size\n",
    "        e_R = np.sqrt(np.sum((self.R - self.R_prev) ** 2, axis=(0, 1))) / self.R.size\n",
    "        # Update previous matrices for next iteration\n",
    "        self.D_prev, self.R_prev = self.D.copy(), self.R.copy()\n",
    "        return (e_D < threshold and e_R < threshold) # Return True if converged, False otherwise\n",
    "\n",
    "# Run the pipeline\n",
    "pipeline = Pipeline(nmf=ExampleNMF(),\n",
    "                    dataset='YaleB',\n",
    "                    reduce=3,\n",
    "                    noise_type='salt_and_pepper',\n",
    "                    noise_level=0.08,\n",
    "                    random_state=99,\n",
    "                    scaler='MinMax')\n",
    "\n",
    "# Run the pipeline\n",
    "# Due to the initialization of D and R matrices, \n",
    "# the performance of the ExampleNMF algorithm may be worse than our built-in algorithm.\n",
    "pipeline.execute(max_iter=500, verbose=True)\n",
    "pipeline.evaluate(idx=9, imshow=False)"
   ]
  },
  {
   "cell_type": "markdown",
   "metadata": {},
   "source": [
    "## Intensive Experiments"
   ]
  },
  {
   "cell_type": "code",
   "execution_count": null,
   "metadata": {},
   "outputs": [],
   "source": [
    "from algorithm.pipeline import Experiment, summary\n",
    "\n",
    "model_name = 'L1NormRegularizedNMF'"
   ]
  },
  {
   "cell_type": "code",
   "execution_count": null,
   "metadata": {},
   "outputs": [],
   "source": [
    "exp = Experiment()\n",
    "# Once you build the data container\n",
    "# You can choose an NMF algorithm and execute the experiment\n",
    "exp.choose(model_name)\n",
    "# This step is very time-consuming, please be patient.\n",
    "# If you achieve a better performance, congratulations! \n",
    "# You can share your results with us.\n",
    "# Similarly, you can replace 'L1NormRegularizedNMF' with other your customized NMF algorithm\n",
    "exp.execute()"
   ]
  },
  {
   "cell_type": "code",
   "execution_count": null,
   "metadata": {},
   "outputs": [],
   "source": [
    "summary(f'{model_name.split(\"NMF\")[0]}_log.csv')"
   ]
  }
 ],
 "metadata": {
  "kernelspec": {
   "display_name": "5328",
   "language": "python",
   "name": "python3"
  },
  "language_info": {
   "codemirror_mode": {
    "name": "ipython",
    "version": 3
   },
   "file_extension": ".py",
   "mimetype": "text/x-python",
   "name": "python",
   "nbconvert_exporter": "python",
   "pygments_lexer": "ipython3",
   "version": "3.12.1"
  }
 },
 "nbformat": 4,
 "nbformat_minor": 2
}
