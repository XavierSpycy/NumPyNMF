{
 "cells": [
  {
   "cell_type": "markdown",
   "metadata": {},
   "source": [
    "## Setup"
   ]
  },
  {
   "cell_type": "code",
   "execution_count": null,
   "metadata": {},
   "outputs": [],
   "source": [
    "# Clone the repository\n",
    "!git clone https://github.com/XavierSpycy/NumPyNMF.git"
   ]
  },
  {
   "cell_type": "code",
   "execution_count": null,
   "metadata": {},
   "outputs": [],
   "source": [
    "# Upload the data.zip file from your local machine\n",
    "from google.colab import files\n",
    "uploaded = files.upload()\n",
    "for fn in uploaded.keys():\n",
    "  print('User uploaded file \"{name}\" with length {length} bytes'.format(name=fn, length=len(uploaded[fn])))"
   ]
  },
  {
   "cell_type": "code",
   "execution_count": null,
   "metadata": {},
   "outputs": [],
   "source": [
    "# Unzip the data.zip file and remove the zip file\n",
    "!rm -rf NumPyNMF/data\n",
    "!unzip data.zip -d NumPyNMF/"
   ]
  },
  {
   "cell_type": "code",
   "execution_count": null,
   "metadata": {},
   "outputs": [],
   "source": [
    "# Switch to the NumPyNMF directory\n",
    "%cd NumPyNMF"
   ]
  },
  {
   "cell_type": "markdown",
   "metadata": {},
   "source": [
    "## Run the Script in the Terminal"
   ]
  },
  {
   "cell_type": "code",
   "execution_count": null,
   "metadata": {},
   "outputs": [],
   "source": [
    "!python run.py"
   ]
  },
  {
   "cell_type": "markdown",
   "metadata": {},
   "source": [
    "## Run the Script in the Notebook"
   ]
  },
  {
   "cell_type": "code",
   "execution_count": null,
   "metadata": {},
   "outputs": [],
   "source": [
    "from algorithm.pipeline import Pipeline\n",
    "\n",
    "pipeline = Pipeline(nmf='L1NormRegularizedNMF', # Options: 'L2NormNMF', 'L1NormNMF', 'KLdivergenceNMF', 'ISdivergenceNMF', 'RobustNMF', 'HypersurfaceNMF', 'L1NormRegularizedNMF', 'CappedNormNMF', 'CauchyNMF'\n",
    "                    dataset='YaleB', # Options: 'ORL', 'YaleB'\n",
    "                    reduce=3, # ORL: 1, YaleB: 3\n",
    "                    noise_type='salt_and_pepper', # Options: 'uniform', 'gaussian', 'laplacian', 'salt_and_pepper', 'block'\n",
    "                    noise_level=0.02, # Uniform, Gassian, Laplacian: [.1, .3], Salt and Pepper: [.02, .10], Block: [10, 20]\n",
    "                    random_state=99, # 0, 42, 99, 512, 3407 in our experiments\n",
    "                    scaler='MinMax') # Options: 'MinMax', 'Standard'\n",
    "\n",
    "# Run the pipeline\n",
    "pipeline.run(max_iter=500) # Parameters: max_iter: int, convergence_trend: bool, matrix_size: bool, verbose: bool\n",
    "pipeline.evaluate(idx=9, imshow=True) # Parameters: idx: int, imshow: bool"
   ]
  }
 ],
 "metadata": {
  "kernelspec": {
   "display_name": "5328",
   "language": "python",
   "name": "python3"
  },
  "language_info": {
   "codemirror_mode": {
    "name": "ipython",
    "version": 3
   },
   "file_extension": ".py",
   "mimetype": "text/x-python",
   "name": "python",
   "nbconvert_exporter": "python",
   "pygments_lexer": "ipython3",
   "version": "3.8.18"
  }
 },
 "nbformat": 4,
 "nbformat_minor": 2
}
